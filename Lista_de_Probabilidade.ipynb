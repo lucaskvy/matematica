{
  "nbformat": 4,
  "nbformat_minor": 0,
  "metadata": {
    "colab": {
      "provenance": [],
      "authorship_tag": "ABX9TyNAweZ3sdHMlp0FWkJfLrPo",
      "include_colab_link": true
    },
    "kernelspec": {
      "name": "python3",
      "display_name": "Python 3"
    },
    "language_info": {
      "name": "python"
    }
  },
  "cells": [
    {
      "cell_type": "markdown",
      "metadata": {
        "id": "view-in-github",
        "colab_type": "text"
      },
      "source": [
        "<a href=\"https://colab.research.google.com/github/lucaskvy/matematica/blob/main/Lista_de_Probabilidade.ipynb\" target=\"_parent\"><img src=\"https://colab.research.google.com/assets/colab-badge.svg\" alt=\"Open In Colab\"/></a>"
      ]
    },
    {
      "cell_type": "markdown",
      "source": [
        "# Bibliotecas"
      ],
      "metadata": {
        "id": "I4Or8qLUtuLC"
      }
    },
    {
      "cell_type": "code",
      "execution_count": 20,
      "metadata": {
        "id": "uSjBuQlktWCn"
      },
      "outputs": [],
      "source": [
        "from math import factorial, e, comb\n",
        "# e ou exp"
      ]
    },
    {
      "cell_type": "markdown",
      "source": [
        "# questão 01\n",
        "Ao jogar um dado, qual a probabilidade de obtermos um número ímpar voltado para cima?"
      ],
      "metadata": {
        "id": "dSGbIH_fuHSi"
      }
    },
    {
      "cell_type": "code",
      "source": [
        "dado = [i for i in range(1, 7)]\n",
        "a = [i for i in dado if i % 2 != 0]\n",
        "\n",
        "print(f\"A probabilidade de cair um número impar é de {(len(a)/len(dado))*100} %\")"
      ],
      "metadata": {
        "colab": {
          "base_uri": "https://localhost:8080/"
        },
        "id": "H0I6y3FYuFrK",
        "outputId": "16692f52-723c-48fd-e088-820b89f005fb"
      },
      "execution_count": null,
      "outputs": [
        {
          "output_type": "stream",
          "name": "stdout",
          "text": [
            "A probabilidade de cair um número impar é de 50.0 %\n"
          ]
        }
      ]
    },
    {
      "cell_type": "markdown",
      "source": [
        "# questão 02\n",
        "Se lançarmos dois dados ao mesmo tempo, qual a probabilidade de dois números iguais ficarem voltados para cima?"
      ],
      "metadata": {
        "id": "501gOLOwutdH"
      }
    },
    {
      "cell_type": "code",
      "source": [
        "dados = [(i, j) for i in range(1, 7) for j in range(1, 7)]\n",
        "a = [(i, j) for i, j in dados if i == j ]\n",
        "\n",
        "print(f\"A probabilidade de cair dois numeros iguais é de {(len(a)/len(dados))*100} %\")"
      ],
      "metadata": {
        "colab": {
          "base_uri": "https://localhost:8080/"
        },
        "id": "K9xdzVlSusAK",
        "outputId": "6e1cf54d-19d0-4ced-a6b2-4d67e41293ab"
      },
      "execution_count": null,
      "outputs": [
        {
          "output_type": "stream",
          "name": "stdout",
          "text": [
            "A probabilidade de cair dois numeros iguais é de 16.666666666666664 %\n"
          ]
        }
      ]
    },
    {
      "cell_type": "markdown",
      "source": [
        "# questão 03\n",
        "Um saco contém 8 bolas idênticas, mas com cores diferentes: três bolas azuis, quatro vermelhas e uma amarela. Retira-se ao acaso uma bola. Qual a probabilidade da bola retirada ser azul?"
      ],
      "metadata": {
        "id": "fRt69NsP0igA"
      }
    },
    {
      "cell_type": "code",
      "source": [
        "saco = 8\n",
        "a = 3\n",
        "v = 4\n",
        "m = 1\n",
        "\n",
        "print(f\"A probabilidade de sair uma bola azul é de {(a/saco)*100} %\")"
      ],
      "metadata": {
        "colab": {
          "base_uri": "https://localhost:8080/"
        },
        "id": "OdAeNiFA0pbD",
        "outputId": "ded29ff1-15d0-4ca2-b4e2-8f700e8b5ca9"
      },
      "execution_count": null,
      "outputs": [
        {
          "output_type": "stream",
          "name": "stdout",
          "text": [
            "A probabilidade de sair uma bola azul é de 37.5 %\n"
          ]
        }
      ]
    },
    {
      "cell_type": "markdown",
      "source": [
        "# questão 04\n",
        "Qual a probabilidade aproximada de tirar um ás ao retirar ao acaso uma carta de um baralho com 52 cartas, que possui quatro naipes (copas, paus, ouros e espadas) sendo 1 ás em cada naipe?"
      ],
      "metadata": {
        "id": "VBlfLIW32YOz"
      }
    },
    {
      "cell_type": "code",
      "source": [
        "x = 4\n",
        "baralho = 52\n",
        "\n",
        "print(f\"A probabilidade de sair um ás é de {(x/baralho)*100} %\")"
      ],
      "metadata": {
        "colab": {
          "base_uri": "https://localhost:8080/"
        },
        "id": "EV0DJTVq2bCd",
        "outputId": "de333b50-8a31-41db-c1c7-250aa8c949e7"
      },
      "execution_count": null,
      "outputs": [
        {
          "output_type": "stream",
          "name": "stdout",
          "text": [
            "A probabilidade de sair um ás é de 7.6923076923076925 %\n"
          ]
        }
      ]
    },
    {
      "cell_type": "markdown",
      "source": [
        "#questão 05\n",
        "Se uma moeda é lançada 5 vezes, qual a probabilidade de sair \"cara\" 3 vezes?\n",
        "**OBS:** além do método que eu usei abaixo, é possível aplicar a formula da distribuição binomial.\n",
        "$$$$\n",
        "$p(X = k)=C(n,k)*(p^k)*((1-p)^k-^n)$\n",
        "\n",
        "$p(X = 3)=C(5,3)*(0.5^3)*((1-0.5)^2)$\n"
      ],
      "metadata": {
        "id": "TAtF0fT325hp"
      }
    },
    {
      "cell_type": "code",
      "source": [
        "moeda = ('cara', 'coroa')\n",
        "u = [(i, j, k, l, m) for i in moeda for j in moeda for k in moeda for l in moeda for m in moeda]\n",
        "#print(u)\n",
        "U = len(u)\n",
        "\n",
        "a = [1 for i in u if i.count('cara') == 3]\n",
        "A = len(a)\n",
        "\n",
        "prob = A/U\n",
        "print(f\"A probabilidade é de {prob*100}%\")"
      ],
      "metadata": {
        "colab": {
          "base_uri": "https://localhost:8080/"
        },
        "id": "LZvonbY13EjL",
        "outputId": "87d4bcc7-49a5-439e-a330-322f00f4c106"
      },
      "execution_count": null,
      "outputs": [
        {
          "output_type": "stream",
          "name": "stdout",
          "text": [
            "A probabilidade é de 31.25%\n"
          ]
        }
      ]
    },
    {
      "cell_type": "markdown",
      "source": [
        "#questão 06\n",
        "Em uma experiência aleatória foi lançado duas vezes um dado. Considerando que o dado é equilibrado, qual a probabilidade de conseguir no primeiro lançamento o número 5 e no segundo o número 4."
      ],
      "metadata": {
        "id": "GtMJhxfnKJQL"
      }
    },
    {
      "cell_type": "code",
      "source": [
        "#Eventos independentes\n",
        "probabilidade = (1/6) * (1/6)\n",
        "\n",
        "print(f\"A probabilidade de conseguir no primeiro lançamento o número 5 e no segundo o número 4 é {probabilidade*100}\")"
      ],
      "metadata": {
        "id": "XFfKI8OGKL98"
      },
      "execution_count": null,
      "outputs": []
    },
    {
      "cell_type": "markdown",
      "source": [
        "# questão 07\n",
        "Em uma experiência aleatória foi lançado duas vezes um dado. Considerando que o dado é equilibrado, qual a probabilidade de obter em pelo menos um dos lançamentos o número 5."
      ],
      "metadata": {
        "id": "JQ-Iyy2AKO_J"
      }
    },
    {
      "cell_type": "code",
      "source": [
        "dado = [i for i in range(1, 7)]\n",
        "u = [(i, j) for i in dado for j in dado]\n",
        "a = [(i, j) for i in dado for j in dado if i == 5 or j == 5]\n",
        "result = len(a)/len(u)\n",
        "\n",
        "print(f\"A probabilidade é de {result*100} %\")"
      ],
      "metadata": {
        "id": "Vep-ZOimKbI0"
      },
      "execution_count": null,
      "outputs": []
    },
    {
      "cell_type": "markdown",
      "source": [
        "#questão 08\n",
        "Qual a probabilidade de lançar um dado sete vezes e sair 3 vezes o número 5?"
      ],
      "metadata": {
        "id": "m9AqL3utKdSi"
      }
    },
    {
      "cell_type": "code",
      "source": [
        "n = 7\n",
        "k = 3\n",
        "p = 1/6\n",
        "\n",
        "coef_binomial = comb(n, k)\n",
        "probabilidade = coef_binomial * (p**k) * ((1-p)**(n-k))\n",
        "\n",
        "print(f\"A probabilidade de lançar um dado sete vezes e sair 3 vezes o número 5 é {probabilidade*100} %\")\n"
      ],
      "metadata": {
        "id": "jQAaVwwGKhJj"
      },
      "execution_count": null,
      "outputs": []
    },
    {
      "cell_type": "markdown",
      "source": [
        "#questão 09\n",
        "Um casal planeja ter cinco filhos e deseja saber a probabilidade de serem 3 meninos e 2 meninas. Calcule esta probabilidade."
      ],
      "metadata": {
        "id": "8cWsYd24KmzS"
      }
    },
    {
      "cell_type": "code",
      "source": [
        "n = 5\n",
        "k = 3\n",
        "p = 1/2\n",
        "\n",
        "cb = factorial(n)/(factorial(n-k)*factorial(k))\n",
        "result = cb * (p**k) * ((1-p)**(n-k))\n",
        "\n",
        "print(f\"A probabilidade de serem 3 meninos e 2 meninas é de {result*100} %\")"
      ],
      "metadata": {
        "colab": {
          "base_uri": "https://localhost:8080/"
        },
        "id": "nqQIy2sMKs6f",
        "outputId": "0307d41a-bbba-487c-cdac-c72df48c951e"
      },
      "execution_count": null,
      "outputs": [
        {
          "output_type": "stream",
          "name": "stdout",
          "text": [
            "A probabilidade de serem 3 meninos e 2 meninas é de 31.25 %\n"
          ]
        }
      ]
    },
    {
      "cell_type": "markdown",
      "source": [
        "#questão 10\n",
        "Um cofre possui um disco marcado com os dígitos de 0 a 9. O segredo deste cofre é formado por uma sequência de 3 dígitos distintos. Se uma pessoa tentar abrir o cofre, quantas tentativas deverá fazer no máximo?"
      ],
      "metadata": {
        "id": "0Ib8bBA0KyQT"
      }
    },
    {
      "cell_type": "code",
      "source": [
        "n = 10\n",
        "p = 3\n",
        "resultado = factorial(n)/factorial(n-p)\n",
        "print(f\"O total de tentativas será: {resultado}\")"
      ],
      "metadata": {
        "colab": {
          "base_uri": "https://localhost:8080/"
        },
        "id": "4aovY9dlKxyE",
        "outputId": "d3fcb371-f5e8-4553-a22b-8f2145afc216"
      },
      "execution_count": null,
      "outputs": [
        {
          "output_type": "stream",
          "name": "stdout",
          "text": [
            "O total de tentativas será: 720.0\n"
          ]
        }
      ]
    },
    {
      "cell_type": "markdown",
      "source": [
        "#questão 11\n",
        " Quantos ANAGRAMAS podem ser formados com as letras da palavra MATEMATICA?"
      ],
      "metadata": {
        "id": "ALumWYzvz48k"
      }
    },
    {
      "cell_type": "code",
      "source": [
        "def contagem(palavra):\n",
        "  count_palavras = {}\n",
        "\n",
        "  for l in palavra:\n",
        "    if l not in count_palavras:\n",
        "      count_palavras[l] = 0\n",
        "    count_palavras[l] += 1\n",
        "\n",
        "  k=1\n",
        "  for valores in count_palavras.values():\n",
        "    k *= factorial(valores)\n",
        "\n",
        "  resultado = factorial(len(palavra)) / k\n",
        "\n",
        "  return resultado\n",
        "\n",
        "p = \"MATEMATICA\"\n",
        "resultado = contagem(p)\n",
        "\n",
        "print(f\"A quantidade de anagramas que podem ser formados é de {resultado}\")"
      ],
      "metadata": {
        "colab": {
          "base_uri": "https://localhost:8080/"
        },
        "id": "dSAdGhuvg_dL",
        "outputId": "00c0274d-0f07-4c43-f21b-4d2fbe70d5f0"
      },
      "execution_count": 3,
      "outputs": [
        {
          "output_type": "stream",
          "name": "stdout",
          "text": [
            "A quantidade de anagramas que podem ser formados é de 151200.0\n"
          ]
        }
      ]
    },
    {
      "cell_type": "markdown",
      "source": [
        "#questão 12\n",
        "Cinco pessoas trabalham juntas e estão todas insatisfeitas com os seus salários. Decidem então formar uma comissão de duas delas, para ir falar com o chefe em nome de todas. Nessas condições, quantas comissões podem ser formadas?\n",
        "\n",
        "\n"
      ],
      "metadata": {
        "id": "iBvdHYKwlBCQ"
      }
    },
    {
      "cell_type": "code",
      "source": [
        "n = 5\n",
        "p = 2\n",
        "\n",
        "result = factorial(n)/(factorial(n-p)*factorial(p))\n",
        "print(f\"Podem ser formadas {result} comissões\")"
      ],
      "metadata": {
        "colab": {
          "base_uri": "https://localhost:8080/"
        },
        "id": "K0y1xzOwk-Ku",
        "outputId": "43726f50-2935-4e5d-c7de-e7796e69c228"
      },
      "execution_count": 4,
      "outputs": [
        {
          "output_type": "stream",
          "name": "stdout",
          "text": [
            "Podem ser formadas 10.0 comissões\n"
          ]
        }
      ]
    },
    {
      "cell_type": "markdown",
      "source": [
        "#questão 13\n",
        "Elabore um programa para calcular a probabilidade de você ganhar na Mega-Sena em um jogo simples. Qual o resultado aproximado  (em x 10^-8) encontrado?"
      ],
      "metadata": {
        "id": "MR0HOIeulv8S"
      }
    },
    {
      "cell_type": "code",
      "source": [
        "def mega_sena():\n",
        "  n = 60\n",
        "  p = 6\n",
        "  combinação = comb(n, p)\n",
        "  prob = 1/combinação\n",
        "  return prob\n",
        "\n",
        "resultado = mega_sena()\n",
        "print(f\"A probabilidade de ganhar com um jogo simples é de {resultado:.10e} %\")\n"
      ],
      "metadata": {
        "colab": {
          "base_uri": "https://localhost:8080/"
        },
        "id": "4x9Up4NzlvsS",
        "outputId": "e3171576-6a12-4e7e-ffd8-acd423d1b16e"
      },
      "execution_count": 5,
      "outputs": [
        {
          "output_type": "stream",
          "name": "stdout",
          "text": [
            "A probabilidade de ganhar com um jogo simples é de 1.9974488583e-08 %\n"
          ]
        }
      ]
    },
    {
      "cell_type": "markdown",
      "source": [
        "#questão 14\n",
        "Uma sala contém 20 homens e 30 mulheres em que todos são funcionários de uma empresa. Verifica-se que metade desses homens e metade dessas mulheres possuem nível superior. Escolhendo aleatoriamente uma pessoa dessa sala para realizar uma tarefa, a probabilidade de ela ser mulher e possuir nível superior é igual a"
      ],
      "metadata": {
        "id": "tDllAJPdl3mQ"
      }
    },
    {
      "cell_type": "code",
      "source": [
        "B = 30\n",
        "ab = 15\n",
        "\n",
        "resultado = ab/B\n",
        "\n",
        "print(f\"A probabilidade de ser uma mulher com nível superior é de {resultado*100} %\")"
      ],
      "metadata": {
        "colab": {
          "base_uri": "https://localhost:8080/"
        },
        "id": "A9RInI7tl4lv",
        "outputId": "f0889beb-4996-4544-d1df-a7fce368a61f"
      },
      "execution_count": 6,
      "outputs": [
        {
          "output_type": "stream",
          "name": "stdout",
          "text": [
            "A probabilidade de ser uma mulher com nível superior é de 50.0 %\n"
          ]
        }
      ]
    },
    {
      "cell_type": "markdown",
      "source": [
        "#questão 15\n",
        "Um jogador tem tido aproveitamento de 80% dos pênaltis batidos. Em uma série de 5 chutes a chance de ele acertar apenas 2, será aproximadamente:"
      ],
      "metadata": {
        "id": "ZMu2Z2inmtrc"
      }
    },
    {
      "cell_type": "code",
      "source": [
        "p = 0.8\n",
        "n = 5\n",
        "k = 2\n",
        "\n",
        "coef_binomial = comb(n, k)\n",
        "\n",
        "result = coef_binomial * (p**k) * ((1-p)**(n-k))\n",
        "print(f\"A probabilidade será de {result*100} %\")"
      ],
      "metadata": {
        "colab": {
          "base_uri": "https://localhost:8080/"
        },
        "id": "kS5FcmrWmztA",
        "outputId": "fef987a5-702d-4450-a970-5d23d3f2fbd8"
      },
      "execution_count": 7,
      "outputs": [
        {
          "output_type": "stream",
          "name": "stdout",
          "text": [
            "A probabilidade será de 5.119999999999997 %\n"
          ]
        }
      ]
    },
    {
      "cell_type": "markdown",
      "source": [
        "#questão 16\n",
        "Juca diariamente almoça um prato de sopa no mesmo restaurante. A sopa é feita de forma aleatória por um dos três cozinheiros que lá trabalham:\n",
        "\n",
        "1) 40% das vezes a sopa é feita por João;\n",
        "\n",
        "2) 40% das vezes por José;\n",
        "\n",
        "3) 20% das vezes por Maria;\n",
        "\n",
        "4) João salga demais a sopa 10% das vezes;\n",
        "\n",
        "5) José o faz em 5% das vezes;\n",
        "\n",
        "6) Maria em 20% das vezes.\n",
        "\n",
        "a) A probabilidade de Juca ir tomar a sopa e ela estar salgada é igual a 10%.\n"
      ],
      "metadata": {
        "id": "XggeCdzvoInS"
      }
    },
    {
      "cell_type": "code",
      "source": [
        "joao = 0.4\n",
        "jose = 0.4\n",
        "maria = 0.2\n",
        "\n",
        "Sjoao = 0.1\n",
        "Sjose = 0.05\n",
        "Sm = 0.2\n",
        "\n",
        "prob = jose*Sjose + joao*Sjoao + maria*Sm\n",
        "x = prob*100\n",
        "\n",
        "if x == 10:\n",
        "  print(\"Verdadeiro\")\n",
        "else:\n",
        "  print(\"Falso\")"
      ],
      "metadata": {
        "colab": {
          "base_uri": "https://localhost:8080/"
        },
        "id": "O-VRsiHXoSnv",
        "outputId": "3785eee8-f26c-46b1-d84a-fb311128ddf3"
      },
      "execution_count": 14,
      "outputs": [
        {
          "output_type": "stream",
          "name": "stdout",
          "text": [
            "Falso\n"
          ]
        }
      ]
    },
    {
      "cell_type": "markdown",
      "source": [
        "#questão 17\n",
        "b) Como de costume, um dia qualquer Juca pede a sopa e, ao experimentá-la, verifica que está salgada demais. A probabilidade de que essa sopa tenha sido feita por José é superior a 20%."
      ],
      "metadata": {
        "id": "-lMLzZzvtllU"
      }
    },
    {
      "cell_type": "code",
      "source": [
        "jose = 0.4\n",
        "maria = 0.2\n",
        "joao = 0.4\n",
        "\n",
        "Sj = 0.1\n",
        "Sm = 0.2\n",
        "Sjo = 0.05\n",
        "\n",
        "prob = jose*Sjo + joao*Sj + maria*Sm\n",
        "prob_Sjose = jose*Sjo\n",
        "resultado = prob_Sjose/prob\n",
        "\n",
        "if resultado > 0.20:\n",
        "    print(\"Verdadeiro: é superior a 20%.\")\n",
        "else:\n",
        "    print(\"Falso: não é superior a 20%.\")"
      ],
      "metadata": {
        "colab": {
          "base_uri": "https://localhost:8080/"
        },
        "id": "Q7MYaxJXtcSo",
        "outputId": "af321473-6bd8-451d-d35d-8be299921730"
      },
      "execution_count": 21,
      "outputs": [
        {
          "output_type": "stream",
          "name": "stdout",
          "text": [
            "Falso: não é superior a 20%.\n"
          ]
        }
      ]
    },
    {
      "cell_type": "markdown",
      "source": [
        "#questão 18\n",
        "**a) Qual é a diferença entre as distribuições de Poisson e Binomial?**\n",
        "$$$$\n",
        "A distribuição binomial é usada quando temos um número fixo de tentativas independentes (n), cada uma com uma probabilidade constante de sucesso (p).\n",
        "\n",
        "Já a distribuição de Poisson é usada para modelar eventos raros que ocorrem independentemente em um intervalo de tempo ou espaço.\n"
      ],
      "metadata": {
        "id": "Yv2opwXryzlv"
      }
    },
    {
      "cell_type": "markdown",
      "source": [
        "**b) Dê alguns exemplos de quando podemos aplicar a distribuição de Poisson.**\n",
        "$$$$\n",
        "\n",
        "A distribuição de Poisson pode ser aplicada em cenários como:\n",
        "\n",
        "* Número de chamadas recebidas por um call center em uma hora específica;\n",
        "* Número de defeitos em um produto;\n",
        "* Número de cliques em um site em um determinado período de tempo, etc;"
      ],
      "metadata": {
        "id": "mP7jA6_QzFSx"
      }
    },
    {
      "cell_type": "markdown",
      "source": [
        "**c) Dê a fórmula da distribuição de Poisson e o significado dos vários símbolos.**\n",
        "$$$$\n",
        "$λ=n*p$\n",
        "$$$$\n",
        "$p(X=k)=\\frac{e^{-\\lambda}\\lambda^k}{k!}$\n",
        "$$$$\n",
        "Onde:\n",
        "* $P(X=k)$ é a probabilidade de ocorrerem exatamente k eventos em um determinado intervalo de tempo ou espaço.\n",
        "* λ é a taxa média de ocorrência dos eventos por unidade de tempo ou espaço.\n",
        "* $k$ é o número de eventos que queremos calcular a probabilidade.\n",
        "* $k!$ representa o fatorial de k, que é o produto de todos os inteiros positivos menores ou iguais a k3.\n",
        "* $ℇ$ é a constante matemática aproximadamente igual a 2,718285."
      ],
      "metadata": {
        "id": "pxtSzrJlzLT0"
      }
    },
    {
      "cell_type": "markdown",
      "source": [
        "#questão 19\n",
        "Um\n",
        "departamento de polícia recebe em média 5 solicitações por hora. Qual a\n",
        "probabilidade de receber 2 solicitações numa hora selecionada aleatoriamente?"
      ],
      "metadata": {
        "id": "DzJ6mYJE0DzX"
      }
    },
    {
      "cell_type": "code",
      "source": [
        "lamb = 5\n",
        "k = 2\n",
        "\n",
        "prob = (e**(-lamb)) * (lamb**k) / factorial(k)\n",
        "print(f\"A probabilidade é de {prob*100} %\")"
      ],
      "metadata": {
        "colab": {
          "base_uri": "https://localhost:8080/"
        },
        "id": "3NbFQ2--0IoT",
        "outputId": "7142d2ae-186b-4a31-8233-7f48a870db29"
      },
      "execution_count": 17,
      "outputs": [
        {
          "output_type": "stream",
          "name": "stdout",
          "text": [
            "A probabilidade é de 8.422433748856836 %\n"
          ]
        }
      ]
    },
    {
      "cell_type": "markdown",
      "source": [
        "#questão 20\n",
        "Um\n",
        "inspetor de qualidade extrai uma amostra de 10 tubos armazenados em um depósito\n",
        "onde, de acordo com os padrões de produção se espera um total de 20% de tubos com\n",
        "defeitos. Qual é a probabilidade de que não mais que 2 tubos saiam defeituosos? Se X\n",
        "denotar “número de tubos defeituosos em 10 extrações independentes e aleatórias”,\n",
        "qual é o seu valor esperado? Qual é a variância? *"
      ],
      "metadata": {
        "id": "KVuWKESD1_Jk"
      }
    },
    {
      "cell_type": "code",
      "source": [
        "# p(X <= 2)\n",
        "\n",
        "n = 10\n",
        "ka = 0\n",
        "kb = 1\n",
        "kc = 2\n",
        "p = 0.2\n",
        "\n",
        "prob_a = comb(n, ka) * (p**ka) * ((1-p)**(n-ka))\n",
        "prob_b = comb(n, kb) * (p**kb) * ((1-p)**(n-kb))\n",
        "prob_c = comb(n, kc) * (p**kc) * ((1-p)**(n-kc))\n",
        "prob = prob_a + prob_b + prob_c\n",
        "\n",
        "ex = n*p\n",
        "vari = ex * (1-p)\n",
        "\n",
        "print(f\"A probabilide de dois tubos sairem defeituosos é de {prob} %\")\n",
        "print(f\"A esperança é de {ex}\")\n",
        "print(f\"A variância é de {vari}\")"
      ],
      "metadata": {
        "colab": {
          "base_uri": "https://localhost:8080/"
        },
        "id": "XEACriEE4uHI",
        "outputId": "9eb899cc-e4f6-4f87-c56e-bf586d00acfe"
      },
      "execution_count": 22,
      "outputs": [
        {
          "output_type": "stream",
          "name": "stdout",
          "text": [
            "A probabilide de dois tubos sairem defeituosos é de 0.6777995264000004 %\n",
            "A esperança é de 2.0\n",
            "A variância é de 1.6\n"
          ]
        }
      ]
    }
  ]
}