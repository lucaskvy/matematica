{
  "nbformat": 4,
  "nbformat_minor": 0,
  "metadata": {
    "colab": {
      "provenance": [],
      "toc_visible": true,
      "include_colab_link": true
    },
    "kernelspec": {
      "name": "python3",
      "display_name": "Python 3"
    },
    "language_info": {
      "name": "python"
    }
  },
  "cells": [
    {
      "cell_type": "markdown",
      "metadata": {
        "id": "view-in-github",
        "colab_type": "text"
      },
      "source": [
        "<a href=\"https://colab.research.google.com/github/lucaskvy/matematica/blob/main/summary.ipynb\" target=\"_parent\"><img src=\"https://colab.research.google.com/assets/colab-badge.svg\" alt=\"Open In Colab\"/></a>"
      ]
    },
    {
      "cell_type": "markdown",
      "source": [
        "#IMPORTANDO BIBLIOTECAS"
      ],
      "metadata": {
        "id": "QrttWPEEVJS7"
      }
    },
    {
      "cell_type": "code",
      "source": [
        "from math import factorial\n",
        "import numpy as np\n",
        "from math import comb\n",
        "from math import e"
      ],
      "metadata": {
        "id": "n_zXwp8DVNro"
      },
      "execution_count": null,
      "outputs": []
    },
    {
      "cell_type": "markdown",
      "source": [
        "# 0- Conceitos básicos de probabilidade"
      ],
      "metadata": {
        "id": "c_cl_VjV37x7"
      }
    },
    {
      "cell_type": "markdown",
      "source": [
        "LANÇAMENTO DE DOIS DADOS:"
      ],
      "metadata": {
        "id": "0S2Q4CmI0RUI"
      }
    },
    {
      "cell_type": "code",
      "execution_count": null,
      "metadata": {
        "id": "w6OtVV3Y0Dox",
        "outputId": "27df5c80-0419-4b1c-e465-cbc4201a18b9",
        "colab": {
          "base_uri": "https://localhost:8080/"
        }
      },
      "outputs": [
        {
          "output_type": "stream",
          "name": "stdout",
          "text": [
            "ESPAÇO AMOSTRAL: \n",
            "[(1, 1), (1, 2), (1, 3), (1, 4), (1, 5), (1, 6), (2, 1), (2, 2), (2, 3), (2, 4), (2, 5), (2, 6), (3, 1), (3, 2), (3, 3), (3, 4), (3, 5), (3, 6), (4, 1), (4, 2), (4, 3), (4, 4), (4, 5), (4, 6), (5, 1), (5, 2), (5, 3), (5, 4), (5, 5), (5, 6), (6, 1), (6, 2), (6, 3), (6, 4), (6, 5), (6, 6)]\n"
          ]
        }
      ],
      "source": [
        "espaco_amostral = [(i, j) for i in range(1, 7) for j in range(1, 7)]\n",
        "print(\"ESPAÇO AMOSTRAL: \")\n",
        "print(espaco_amostral)"
      ]
    },
    {
      "cell_type": "code",
      "source": [
        "total = len(espaco_amostral)\n",
        "print(\"TOTAL DE COMBINAÇÕES: \")\n",
        "print(\"N(U) = \" + str(total))"
      ],
      "metadata": {
        "id": "uD8KTKfa0Xc_",
        "outputId": "aba46def-b8d6-40b8-f1fc-fe016d4d59c3",
        "colab": {
          "base_uri": "https://localhost:8080/"
        }
      },
      "execution_count": null,
      "outputs": [
        {
          "output_type": "stream",
          "name": "stdout",
          "text": [
            "TOTAL DE COMBINAÇÕES: \n",
            "N(U) = 36\n"
          ]
        }
      ]
    },
    {
      "cell_type": "markdown",
      "source": [
        "EVENTO B EM QUE A SOMA DAS FACES SUPERIORES DOS DOIS DADOS É IGUAL A 7, DEFINA O EVENTO B:"
      ],
      "metadata": {
        "id": "DIcRe2mb0Ub-"
      }
    },
    {
      "cell_type": "code",
      "source": [
        "B = [(i, j) for i, j in espaco_amostral if i + j == 7]\n",
        "print(\"B = \" + str(B) )\n"
      ],
      "metadata": {
        "id": "MQOZ9AW90am2",
        "outputId": "add00ca2-ad9f-47f0-9cfc-f4258e7c6179",
        "colab": {
          "base_uri": "https://localhost:8080/"
        }
      },
      "execution_count": null,
      "outputs": [
        {
          "output_type": "stream",
          "name": "stdout",
          "text": [
            "B = [(1, 6), (2, 5), (3, 4), (4, 3), (5, 2), (6, 1)]\n"
          ]
        }
      ]
    },
    {
      "cell_type": "code",
      "source": [
        "print(\"TOTAL DE COMBINAÇÔES: \")\n",
        "print(\"N(B) = \" + str(len(B)))\n",
        "\n",
        "resultado = len(B) / len(espaco_amostral)\n",
        "print(\"%\", resultado*100)"
      ],
      "metadata": {
        "id": "HjVnDT7t0cTO",
        "outputId": "8fabe4af-2b25-47b3-c95d-52fab5e0c0cd",
        "colab": {
          "base_uri": "https://localhost:8080/"
        }
      },
      "execution_count": null,
      "outputs": [
        {
          "output_type": "stream",
          "name": "stdout",
          "text": [
            "TOTAL DE COMBINAÇÔES: \n",
            "N(B) = 6\n",
            "% 16.666666666666664\n"
          ]
        }
      ]
    },
    {
      "cell_type": "markdown",
      "source": [
        "LANÇAMENTO DE UM DADO PODENDO CHAMAR DE EVENDTO D AQUELE EM QUE A FACE SUPERIOR DO DADO É MENOR QUE 7"
      ],
      "metadata": {
        "id": "edUAsyRQ0d3e"
      }
    },
    {
      "cell_type": "code",
      "source": [
        "dado = [i for i in range(1, 7)]\n",
        "D = [i for i in dado if i < 7]\n",
        "\n",
        "print(\"ESPAÇO AMOSTRAL: \")\n",
        "print(\"D = \" + str(D) )"
      ],
      "metadata": {
        "id": "sNygKwCo0f-G",
        "outputId": "202cf784-3762-4e05-bd0e-d69da19351cd",
        "colab": {
          "base_uri": "https://localhost:8080/"
        }
      },
      "execution_count": null,
      "outputs": [
        {
          "output_type": "stream",
          "name": "stdout",
          "text": [
            "ESPAÇO AMOSTRAL: \n",
            "D = [1, 2, 3, 4, 5, 6]\n"
          ]
        }
      ]
    },
    {
      "cell_type": "code",
      "source": [
        "print(\"TOTAL DE COMBINAÇÔES: \")\n",
        "print(\"N(B) = \" + str(len(D)))"
      ],
      "metadata": {
        "id": "O5XBfTVV0i0N",
        "outputId": "b9295a97-9773-43fc-a856-b73fa214c296",
        "colab": {
          "base_uri": "https://localhost:8080/"
        }
      },
      "execution_count": null,
      "outputs": [
        {
          "output_type": "stream",
          "name": "stdout",
          "text": [
            "TOTAL DE COMBINAÇÔES: \n",
            "N(B) = 6\n"
          ]
        }
      ]
    },
    {
      "cell_type": "markdown",
      "source": [
        "PROBABILIDADE DE NO LANÇAMENTO DE UMA MOEDA O RESULTADO SER CARA"
      ],
      "metadata": {
        "id": "8NLq_LT10qWN"
      }
    },
    {
      "cell_type": "code",
      "source": [
        "moeda = [i for i in ('cara', 'coroa')]\n",
        "resultado = [i for i in moeda if i == 'cara']\n",
        "prob = len(resultado) / len(moeda)\n",
        "\n",
        "print(\"ESPAÇO AMOSTRAL: \")\n",
        "print(moeda)\n",
        "print()\n",
        "print(\"RESULTADO ESPERADO: \")\n",
        "print(resultado)\n",
        "print()\n",
        "print(\"PROBABILIDADE: \")\n",
        "print(prob)\n",
        "print(\"ou\")\n",
        "print(f\"%\",prob * 100)\n",
        "\n"
      ],
      "metadata": {
        "colab": {
          "base_uri": "https://localhost:8080/"
        },
        "id": "c0EKEcjf0y-O",
        "outputId": "7b7fcee2-c834-4cd8-b48b-1bd8b9f225ef"
      },
      "execution_count": null,
      "outputs": [
        {
          "output_type": "stream",
          "name": "stdout",
          "text": [
            "ESPAÇO AMOSTRAL: \n",
            "['cara', 'coroa']\n",
            "\n",
            "RESULTADO ESPERADO: \n",
            "['cara']\n",
            "\n",
            "PROBABILIDADE: \n",
            "0.5\n",
            "ou\n",
            "% 50.0\n"
          ]
        }
      ]
    },
    {
      "cell_type": "markdown",
      "source": [
        "CHANCE DE NÃO SAIR O NUMERO 1 EM UM LANÇAMENTO DE DADO"
      ],
      "metadata": {
        "id": "soPNz-p22xpv"
      }
    },
    {
      "cell_type": "code",
      "source": [
        "dado2 = [i for i in range(1, 7)]\n",
        "resultado2 = [i for i in dado2 if i != 1]\n",
        "prob2 = len(resultado2) / len(dado2)\n",
        "\n",
        "print(\"ESPAÇO AMOSTRAL: \")\n",
        "print(dado2)\n",
        "print()\n",
        "print(\"RESULTADO ESPERADO: \")\n",
        "print(resultado2)\n",
        "print()\n",
        "print(\"PROBABILIDADE: \")\n",
        "print(prob2)\n",
        "print(\"ou\")\n",
        "print(\"%\",prob2 * 100)"
      ],
      "metadata": {
        "colab": {
          "base_uri": "https://localhost:8080/"
        },
        "id": "0s8jAaqS2xOG",
        "outputId": "5bd03943-ae49-4afc-ba04-48433fedb928"
      },
      "execution_count": null,
      "outputs": [
        {
          "output_type": "stream",
          "name": "stdout",
          "text": [
            "ESPAÇO AMOSTRAL: \n",
            "[1, 2, 3, 4, 5, 6]\n",
            "\n",
            "RESULTADO ESPERADO: \n",
            "[2, 3, 4, 5, 6]\n",
            "\n",
            "PROBABILIDADE: \n",
            "0.8333333333333334\n",
            "ou\n",
            "% 83.33333333333334\n"
          ]
        }
      ]
    },
    {
      "cell_type": "markdown",
      "source": [
        "Calcular a probabilidade de obter um número ímpar ao lançar um dado de 6 números"
      ],
      "metadata": {
        "id": "MeK2K8qk4F0v"
      }
    },
    {
      "cell_type": "code",
      "source": [
        "dado = [i for i in range(1, 7)]\n",
        "n = [i for i in dado if i%2 == 1]\n",
        "\n",
        "resultado = len(n)/len(dado)\n",
        "print(\"%\", int(resultado*100))"
      ],
      "metadata": {
        "colab": {
          "base_uri": "https://localhost:8080/"
        },
        "id": "M2gAfoA63fNQ",
        "outputId": "ebe3dd2c-7a88-439c-8197-2ea15575e14c"
      },
      "execution_count": null,
      "outputs": [
        {
          "output_type": "stream",
          "name": "stdout",
          "text": [
            "% 50\n"
          ]
        }
      ]
    },
    {
      "cell_type": "markdown",
      "source": [
        "##ARRANJO\n",
        "\n",
        "Os elementos não podem ser repetidos e a ordem dos resultados importam.\n",
        "\n",
        "**An,p = n!/(n-p)!**\n",
        "\n",
        "\n"
      ],
      "metadata": {
        "id": "W8KxV7_3sKaF"
      }
    },
    {
      "cell_type": "markdown",
      "source": [
        "Um cofre possui um disco marcado de 0-9. O segredo é formado por uma sequência de 3 digitos distintos."
      ],
      "metadata": {
        "id": "d3xDdzfZEw5H"
      }
    },
    {
      "cell_type": "code",
      "source": [
        "n = 10\n",
        "p = 3\n",
        "resultado = factorial(n)/factorial(n-p)\n",
        "print(resultado)"
      ],
      "metadata": {
        "colab": {
          "base_uri": "https://localhost:8080/"
        },
        "id": "_7gE1aWaE79_",
        "outputId": "6ae4cbe7-27e3-43d3-f3d8-977694ae34d2"
      },
      "execution_count": null,
      "outputs": [
        {
          "output_type": "stream",
          "name": "stdout",
          "text": [
            "720.0\n"
          ]
        }
      ]
    },
    {
      "cell_type": "markdown",
      "source": [
        "Em um capeonato de futbol participam 20 times, Quantos são os resultados possíveis para os 3 primeros lugares?"
      ],
      "metadata": {
        "id": "dxOB2hIwtdOz"
      }
    },
    {
      "cell_type": "code",
      "source": [
        "n = 20\n",
        "p = 3\n",
        "resultado = factorial(n)/factorial(n-p)\n",
        "print(resultado)"
      ],
      "metadata": {
        "colab": {
          "base_uri": "https://localhost:8080/"
        },
        "id": "B4rLqAWAtH6-",
        "outputId": "7a3aff5b-cf19-4975-a91d-3b863a61c09c"
      },
      "execution_count": null,
      "outputs": [
        {
          "output_type": "stream",
          "name": "stdout",
          "text": [
            "6840.0\n"
          ]
        }
      ]
    },
    {
      "cell_type": "markdown",
      "source": [
        "Uma fila é formada por 10 pessoas. Quantos são os resultados diferentes para as 4 primeiras pessoas dessa fila?"
      ],
      "metadata": {
        "id": "nTYMHOeHufd7"
      }
    },
    {
      "cell_type": "code",
      "source": [
        "n = 10\n",
        "p = 4\n",
        "resultado = factorial(n)/factorial(n-p)\n",
        "print(resultado)"
      ],
      "metadata": {
        "colab": {
          "base_uri": "https://localhost:8080/"
        },
        "id": "I2Cjhx8ouq7i",
        "outputId": "b76e49ad-fe4f-43d7-fd02-531794771056"
      },
      "execution_count": null,
      "outputs": [
        {
          "output_type": "stream",
          "name": "stdout",
          "text": [
            "5040.0\n"
          ]
        }
      ]
    },
    {
      "cell_type": "markdown",
      "source": [
        "##Permutação\n",
        "\n",
        "**Pn = n!**"
      ],
      "metadata": {
        "id": "Q42-3LfWxQhI"
      }
    },
    {
      "cell_type": "markdown",
      "source": [
        "Caso específicio do arranjo onde n é igual a p."
      ],
      "metadata": {
        "id": "98T6pcFhxWwv"
      }
    },
    {
      "cell_type": "markdown",
      "source": [
        "- 4 times disputam um campeonato. Quais são os resultados para as 4 primeiras colocações"
      ],
      "metadata": {
        "id": "RLGBdZPtxikP"
      }
    },
    {
      "cell_type": "code",
      "source": [
        "n = 4\n",
        "Pn = factorial(n)\n",
        "print(Pn)"
      ],
      "metadata": {
        "colab": {
          "base_uri": "https://localhost:8080/"
        },
        "id": "1YThU6WYxclH",
        "outputId": "68f0e5a3-9a62-47c7-c1d6-5fdf35379058"
      },
      "execution_count": null,
      "outputs": [
        {
          "output_type": "stream",
          "name": "stdout",
          "text": [
            "24\n"
          ]
        }
      ]
    },
    {
      "cell_type": "markdown",
      "source": [
        "- Quantos anagramas podem ser formados com a palavra TEORIA"
      ],
      "metadata": {
        "id": "ffSzk6sRx9s-"
      }
    },
    {
      "cell_type": "code",
      "source": [
        "n = \"teoria\"\n",
        "Pn = factorial(len(n))\n",
        "print(Pn)"
      ],
      "metadata": {
        "colab": {
          "base_uri": "https://localhost:8080/"
        },
        "id": "TOYpC4tfx9Vv",
        "outputId": "6bd4012a-2b1b-4efa-f492-a23b3d474dcf"
      },
      "execution_count": null,
      "outputs": [
        {
          "output_type": "stream",
          "name": "stdout",
          "text": [
            "720\n"
          ]
        }
      ]
    },
    {
      "cell_type": "markdown",
      "source": [
        "###Permutação com Repetição"
      ],
      "metadata": {
        "id": "nnkOfgxID_cO"
      }
    },
    {
      "cell_type": "markdown",
      "source": [
        "- Quantos anagramas podem ser formados com a palavra MATEMATICA"
      ],
      "metadata": {
        "id": "U3nYc_5Sy_uG"
      }
    },
    {
      "cell_type": "markdown",
      "source": [
        "**OBS:** caso tenha repetição usar a formula: Pn = n!/k!, onde k é a quantidade de cada letra repetida"
      ],
      "metadata": {
        "id": "U2lyiJSX1XIb"
      }
    },
    {
      "cell_type": "code",
      "source": [
        "def count_anagrams(palavra):\n",
        "  # Usar um dicionario para armazenar as ocorrencias de cada letra\n",
        "  contagem_letras = {} # dicionario\n",
        "\n",
        "  # Para cada letra da palavra, será verificado se ela já está presente no dicionario,\n",
        "  # caso ele não esteja, o contador para essa letra é zerado pos só é levado em consideração\n",
        "  # os números com ocorrencia\n",
        "  for l in palavra:\n",
        "    if l not in contagem_letras:\n",
        "      contagem_letras[l] = 0\n",
        "    contagem_letras[l] += 1\n",
        "\n",
        "  n = len(palavra)\n",
        "  n_anagramas = factorial(n)\n",
        "  k = 1\n",
        "  # Multiplica a quantidade de valores armazenados dentro do dicionario\n",
        "  for count in contagem_letras.values():\n",
        "    k *= factorial(count)\n",
        "\n",
        "  n_anagramas //= k\n",
        "\n",
        "  return n_anagramas\n",
        "\n",
        "palavra = \"MATEMATICA\"\n",
        "num_anagramas = count_anagrams(palavra)\n",
        "print(f\"Numero de anagramas da palavra '{palavra}': {num_anagramas}\")\n",
        "\n"
      ],
      "metadata": {
        "colab": {
          "base_uri": "https://localhost:8080/"
        },
        "id": "8t7wfxr-zBsd",
        "outputId": "59c02ca2-dc39-4ab9-e7d3-616ce607c2bc"
      },
      "execution_count": null,
      "outputs": [
        {
          "output_type": "stream",
          "name": "stdout",
          "text": [
            "Numero de anagramas da palavra 'MATEMATICA': 151200\n"
          ]
        }
      ]
    },
    {
      "cell_type": "markdown",
      "source": [
        "##Combinação\n",
        "\n",
        "Os elementos não podem ser repetidos e a ordem do resultado não importa.\n",
        "\n",
        "**Cn,p = n!/(n-p)!p!**"
      ],
      "metadata": {
        "id": "giSMGFZAKAGB"
      }
    },
    {
      "cell_type": "markdown",
      "source": [
        "- Uma prova consta de 8 questões, das quais o aluno deve resolver 5. De quantas formas posso resolver as 5 questões."
      ],
      "metadata": {
        "id": "wN-vEBHxKMWZ"
      }
    },
    {
      "cell_type": "code",
      "source": [
        "n = 8\n",
        "p = 5\n",
        "\n",
        "resultado = factorial(n)/(factorial(n-p)*factorial(p))\n",
        "print(resultado)"
      ],
      "metadata": {
        "colab": {
          "base_uri": "https://localhost:8080/"
        },
        "id": "iljGd_RS5_2d",
        "outputId": "681dec88-6fad-42c3-c542-1ef794537c0d"
      },
      "execution_count": null,
      "outputs": [
        {
          "output_type": "stream",
          "name": "stdout",
          "text": [
            "56.0\n"
          ]
        }
      ]
    },
    {
      "cell_type": "markdown",
      "source": [
        "- Um grupo existem 10 jogadores de vôlei. Quantos diferentes times de 6 pessoas podem ser escalados?"
      ],
      "metadata": {
        "id": "CYbKNQuCsoVM"
      }
    },
    {
      "cell_type": "code",
      "source": [
        "n = 10 # espaço amostral/conjunto universo\n",
        "p = 6 # numero de sub elementos\n",
        "\n",
        "resultado = factorial(n)/(factorial(n-p)*factorial(p)) # formula\n",
        "print(resultado)"
      ],
      "metadata": {
        "colab": {
          "base_uri": "https://localhost:8080/"
        },
        "id": "g7p6bj57sxb0",
        "outputId": "b18f434c-07bc-4187-ce3c-d48fb5ad3502"
      },
      "execution_count": null,
      "outputs": [
        {
          "output_type": "stream",
          "name": "stdout",
          "text": [
            "210.0\n"
          ]
        }
      ]
    },
    {
      "cell_type": "markdown",
      "source": [
        "- Uma sorveteria vende 10 sabores. Leticia quer um sorvete de dois sabores diferentes. De quantas maneiras ela pode fazer sua escolha?"
      ],
      "metadata": {
        "id": "8NIKzx3bwfhR"
      }
    },
    {
      "cell_type": "code",
      "source": [
        "n = 10\n",
        "p = 2\n",
        "resultado = factorial(n)/(factorial(n-p)*factorial(p)) # formula\n",
        "print(resultado)"
      ],
      "metadata": {
        "colab": {
          "base_uri": "https://localhost:8080/"
        },
        "id": "IzLzpZoowsfv",
        "outputId": "77cab30a-3965-4e31-ee70-19bf5251f1ff"
      },
      "execution_count": null,
      "outputs": [
        {
          "output_type": "stream",
          "name": "stdout",
          "text": [
            "45.0\n"
          ]
        }
      ]
    },
    {
      "cell_type": "markdown",
      "source": [
        "- Uma sala contem 10 homem e 10 mulheres. Quantas comissões de 5 pessoas podem ser formadas, se em cada uma delas deve haver 3 homens e 2 mulheres."
      ],
      "metadata": {
        "id": "wSzO9ngFyBT1"
      }
    },
    {
      "cell_type": "code",
      "source": [
        "n1 = 10 # São sub conjuntos do conjunto universo que podem ser calculados de\n",
        "        # forma separada\n",
        "\n",
        "n2 = 10 # São sub conjuntos do conjunto universo que podem ser calculados de\n",
        "        # forma separada\n",
        "\n",
        "p1 = 3\n",
        "p2 = 2\n",
        "\n",
        "r_parcial1 = factorial(n1)/(factorial(n1-p1)*factorial(p1)) # formula\n",
        "print(\"r1:\", r_parcial1)\n",
        "\n",
        "r_parcial2 = factorial(n2)/(factorial(n2-p2)*factorial(p2)) # formula\n",
        "print(\"r2:\", r_parcial2)\n",
        "\n",
        "print(\"Resultado final:\", r_parcial1 * r_parcial2)\n",
        "\n"
      ],
      "metadata": {
        "colab": {
          "base_uri": "https://localhost:8080/"
        },
        "id": "x9HuDifbyngx",
        "outputId": "4d03d6b8-2392-4c19-bd42-a1c7bdbb5d7f"
      },
      "execution_count": null,
      "outputs": [
        {
          "output_type": "stream",
          "name": "stdout",
          "text": [
            "r1: 120.0\n",
            "r2: 45.0\n",
            "Resultado final: 5400.0\n"
          ]
        }
      ]
    },
    {
      "cell_type": "markdown",
      "source": [
        "- Em um grupo de 15 pessoas existem 5 medicos , 7 engenheiros e 3 advogados. Quantas comissões de 5 pessoas posso formar com 2 medicos, 2 engenheiro e 1 advogado."
      ],
      "metadata": {
        "id": "L2CrSy6V2l9S"
      }
    },
    {
      "cell_type": "code",
      "source": [
        "conj_universo = np.array([5, 7, 3])\n",
        "n1 = conj_universo[0] # São sub conjuntos do conjunto universo que podem ser calculados de\n",
        "        # forma separada\n",
        "n2 = conj_universo[1]\n",
        "n3 = conj_universo[2]\n",
        "\n",
        "p1 = 2\n",
        "p2 = 2\n",
        "p3 = 1\n",
        "\n",
        "r_parcial1 = factorial(n1)/(factorial(n1-p1)*factorial(p1)) # formula\n",
        "print(\"r1:\", r_parcial1)\n",
        "\n",
        "r_parcial2 = factorial(n2)/(factorial(n2-p2)*factorial(p2)) # formula\n",
        "print(\"r2:\", r_parcial2)\n",
        "\n",
        "r_parcial3 = factorial(n3)/(factorial(n3-p3)*factorial(p3)) # formula\n",
        "print(\"r2:\", r_parcial3)\n",
        "\n",
        "print(\"Resultado final:\", r_parcial1 * r_parcial2 * r_parcial3)\n"
      ],
      "metadata": {
        "colab": {
          "base_uri": "https://localhost:8080/"
        },
        "id": "CriXjvTr3McG",
        "outputId": "43e99d79-bfa5-4aea-bcf1-a35a04e3fc03"
      },
      "execution_count": null,
      "outputs": [
        {
          "output_type": "stream",
          "name": "stdout",
          "text": [
            "r1: 10.0\n",
            "r2: 21.0\n",
            "r2: 3.0\n",
            "Resultado final: 630.0\n"
          ]
        }
      ]
    },
    {
      "cell_type": "markdown",
      "source": [
        "# 1- Probabilidade\n",
        "\n",
        "Probabilidade clássica: usa o numero de eventos sob o conjunto universo\n",
        "\n",
        "$p(A)$ = $n(A)/n(U)$\n",
        "\n"
      ],
      "metadata": {
        "id": "VGjONLpY4AfB"
      }
    },
    {
      "cell_type": "markdown",
      "source": [
        "##Frequência Relativa ou Empírica / Probabilidade Frequêncial\n",
        "\n",
        "$f$ = $n/N$\n",
        "\n",
        "\n",
        "Príncipais carácterísticas:\n",
        "*   Sua diferença da clássica se da pois ela se propõe a analisar a quantidade de experimentos, por exemplo:\n",
        "\n",
        "  *   Uma moeda, atravez da probabilidade clássica, tem uma chance de 50% para cara e coroa, porém, ao lançarmos essa moeda 10 vezes, não nescessáriamente elá irá cair cara em 50% das vezes;\n",
        "\n",
        "\n",
        "*   Quanto maior o total de experimentos, a probabilidade frequêncial se torna igual a clássica:\n",
        "\n",
        "> $P = lim N->infinito = n(A)/n(U)$\n",
        "\n",
        "*  Em síntese, quando se envolve quantidade de experimentos, é usada a probabilidae frequencial. Quando se trata da probabilidade de um evento em especifico usa-se a probabilidade clássica;\n",
        "\n",
        "\n",
        "\n"
      ],
      "metadata": {
        "id": "Z0dc2g7S4zxB"
      }
    },
    {
      "cell_type": "markdown",
      "source": [
        "Simulação de eventos eleatórios para o lançamento de uma moeda, sendo cara = 0 e coroa = 1,\n",
        "\n",
        "EVENTOS:\n",
        "*   N=10\n",
        "*   N=100\n",
        "*   N=1000\n",
        "*   N=10000\n"
      ],
      "metadata": {
        "id": "3gqSZ_NK5XDz"
      }
    },
    {
      "cell_type": "code",
      "source": [
        "import random\n",
        "\n",
        "def lancamento_moeda(N):\n",
        "    n_caras = 0\n",
        "    n_coroas = 0\n",
        "\n",
        "    for _ in range(N):\n",
        "        # Gera um número aleatório entre 0 e 1\n",
        "        resultado = random.randint(0, 1)\n",
        "\n",
        "        # Atualiza os contadores\n",
        "        if resultado == 0:\n",
        "            n_caras += 1\n",
        "        else:\n",
        "            n_coroas += 1\n",
        "\n",
        "    # Calcula as frequências relativas\n",
        "    freq_cara = n_caras / N\n",
        "    freq_coroa = n_coroas / N\n",
        "\n",
        "    return freq_cara, freq_coroa, n_caras, n_coroas\n",
        "\n",
        "# Valores de N\n",
        "N_valores = [25, 100, 1000, 10000]\n",
        "for N in N_valores:\n",
        "    freq_cara, freq_coroa, n_cara, n_coroa = lancamento_moeda(N)\n",
        "    print(f\"Para N = {N}:\")\n",
        "    print(f\"n cara: {n_cara}\")\n",
        "    print(f\"Frequência relativa de cara: {freq_cara:.4f}\")\n",
        "    print(f\"n coroa: {n_coroa}\")\n",
        "    print(f\"Frequência relativa de coroa: {freq_coroa:.4f}\\n\")\n"
      ],
      "metadata": {
        "colab": {
          "base_uri": "https://localhost:8080/"
        },
        "id": "UJjRc4aL4zXp",
        "outputId": "17ca2f7d-3a42-4661-c4b2-56f70676afa2"
      },
      "execution_count": null,
      "outputs": [
        {
          "output_type": "stream",
          "name": "stdout",
          "text": [
            "Para N = 25:\n",
            "n cara: 11\n",
            "Frequência relativa de cara: 0.4400\n",
            "n coroa: 14\n",
            "Frequência relativa de coroa: 0.5600\n",
            "\n",
            "Para N = 100:\n",
            "n cara: 51\n",
            "Frequência relativa de cara: 0.5100\n",
            "n coroa: 49\n",
            "Frequência relativa de coroa: 0.4900\n",
            "\n",
            "Para N = 1000:\n",
            "n cara: 514\n",
            "Frequência relativa de cara: 0.5140\n",
            "n coroa: 486\n",
            "Frequência relativa de coroa: 0.4860\n",
            "\n",
            "Para N = 10000:\n",
            "n cara: 5018\n",
            "Frequência relativa de cara: 0.5018\n",
            "n coroa: 4982\n",
            "Frequência relativa de coroa: 0.4982\n",
            "\n"
          ]
        }
      ]
    },
    {
      "cell_type": "code",
      "source": [
        "import random\n",
        "\n",
        "N_valores = [10, 100, 1000, 10000]\n",
        "\n",
        "for N in N_valores:\n",
        "  n_caras = 0\n",
        "  n_coroas = 0\n",
        "\n",
        "  for _ in range(N):\n",
        "\n",
        "    resultado = random.randint(0, 1)\n",
        "\n",
        "    if resultado == 1:\n",
        "      n_caras += 1\n",
        "    else:\n",
        "      n_coroas += 1\n",
        "\n",
        "  freq_cara = n_caras / N\n",
        "  freq_coroa = n_coroas / N\n",
        "  print(f\"Para N = {N}:\")\n",
        "  print(f\"n cara: {n_caras}\")\n",
        "  print(f\"Frequência relativa de cara: {freq_cara:.4f}\")\n",
        "  print(f\"n coroa: {n_coroas}\")\n",
        "  print(f\"Frequência relativa de coroa: {freq_coroa:.4f}\\n\")\n"
      ],
      "metadata": {
        "colab": {
          "base_uri": "https://localhost:8080/"
        },
        "id": "CRGOGd1TQf3r",
        "outputId": "b2245e8d-b934-499a-edfb-034586b0d46f"
      },
      "execution_count": null,
      "outputs": [
        {
          "output_type": "stream",
          "name": "stdout",
          "text": [
            "Para N = 10:\n",
            "n cara: 6\n",
            "Frequência relativa de cara: 0.6000\n",
            "n coroa: 4\n",
            "Frequência relativa de coroa: 0.4000\n",
            "\n",
            "Para N = 100:\n",
            "n cara: 51\n",
            "Frequência relativa de cara: 0.5100\n",
            "n coroa: 49\n",
            "Frequência relativa de coroa: 0.4900\n",
            "\n",
            "Para N = 1000:\n",
            "n cara: 474\n",
            "Frequência relativa de cara: 0.4740\n",
            "n coroa: 526\n",
            "Frequência relativa de coroa: 0.5260\n",
            "\n",
            "Para N = 10000:\n",
            "n cara: 5044\n",
            "Frequência relativa de cara: 0.5044\n",
            "n coroa: 4956\n",
            "Frequência relativa de coroa: 0.4956\n",
            "\n"
          ]
        }
      ]
    },
    {
      "cell_type": "markdown",
      "source": [
        "- Em um milheiro de 8 tijolos, cerca de 100 são danificados. Quala a probabilidade de um tijolo estar danificado?"
      ],
      "metadata": {
        "id": "JS3Tm7XKGHH7"
      }
    },
    {
      "cell_type": "code",
      "source": [
        "n = 100\n",
        "N = 8000 # Total de experimentos\n",
        "\n",
        "f = n/N\n",
        "print(f\"Probabilidade: {f*100}%\")"
      ],
      "metadata": {
        "colab": {
          "base_uri": "https://localhost:8080/"
        },
        "id": "GbmyDxXNHQvV",
        "outputId": "5372f8e7-b550-467a-afa9-729cefe06b3d"
      },
      "execution_count": null,
      "outputs": [
        {
          "output_type": "stream",
          "name": "stdout",
          "text": [
            "Probabilidade: 1.25%\n"
          ]
        }
      ]
    },
    {
      "cell_type": "markdown",
      "source": [
        "# 1.1- Categorias Especiais de Eventos\n"
      ],
      "metadata": {
        "id": "hd0HEPw-Hpfh"
      }
    },
    {
      "cell_type": "markdown",
      "source": [
        "## Eventos Independentes\n",
        "\n",
        "São resultados desejados em mais de um experimento, por exemplo:\n",
        "- Ao lançar dois dados, qual a probabilidade de cair o número 6 nos dois eventos?"
      ],
      "metadata": {
        "id": "bMpfFe5YH2sK"
      }
    },
    {
      "cell_type": "code",
      "source": [
        "dado = [x for x in range(1, 7)]\n",
        "A = [p for p in dado if p == 6]\n",
        "\n",
        "prob = len(A)/len(dado)\n",
        "\n",
        "resultado = prob  * prob # Multiplicação das probabilidades dos dois eventos\n",
        "print(resultado*100)"
      ],
      "metadata": {
        "colab": {
          "base_uri": "https://localhost:8080/"
        },
        "id": "_5IY56buH2Oa",
        "outputId": "4c8449a9-d9d2-495a-d80d-441f8271f30c"
      },
      "execution_count": null,
      "outputs": [
        {
          "output_type": "stream",
          "name": "stdout",
          "text": [
            "2.7777777777777777\n"
          ]
        }
      ]
    },
    {
      "cell_type": "markdown",
      "source": [
        "## Teorema da União\n",
        "\n",
        "Probabilidade da unão de dois conjuntos:\n",
        "\n",
        "*   Formula da união = $p(C∪D)= n(C)+n(D)-n(C∩D)$\n",
        "*   Probabilidade da união = $p(C∪D)= n(C)/n(U)+n(D)/n(U)-n(C∩D)/n(U)$\n",
        "\n"
      ],
      "metadata": {
        "id": "0k1weV0xLXF_"
      }
    },
    {
      "cell_type": "markdown",
      "source": [
        "- Dois eventos A e B ocorrem com 40% e 30% de probabilidade. A probabilidade que ocorra A ou B é de 50%. Assim, a probabilidade de que A e B ocorram é de.."
      ],
      "metadata": {
        "id": "a_QBVgiXNQxj"
      }
    },
    {
      "cell_type": "code",
      "source": [
        "A = 0.4\n",
        "B = 0.3\n",
        "AB = 0.5\n",
        "\n"
      ],
      "metadata": {
        "colab": {
          "base_uri": "https://localhost:8080/"
        },
        "id": "V-dtTJQFM7sc",
        "outputId": "a676b3a6-c24f-42e3-826a-1a1c8def8d8a"
      },
      "execution_count": null,
      "outputs": [
        {
          "output_type": "execute_result",
          "data": {
            "text/plain": [
              "40.0"
            ]
          },
          "metadata": {},
          "execution_count": 42
        }
      ]
    },
    {
      "cell_type": "markdown",
      "source": [
        "##Axiomas de Probabilidade"
      ],
      "metadata": {
        "id": "QOaKb1GLy2dQ"
      }
    },
    {
      "cell_type": "markdown",
      "source": [
        "\n",
        "\n",
        "*   **Axioma da não-negatividade:** A probabilidade de qualquer evento $A$ ocorrer é sempre positiva ou zero, 1(100%) ou 0(0%);\n",
        "*   **Axioma da certeza:** Sempre que um evento pertencente ao espaço amostral $U$ ocorre, sua probabilidade é 1(100%). Esse evento é conhecido como evento certo, pois, ao realizar um experimento, ele certamente terá um resultado;\n",
        "*   **Axioma da adição:**  Caso tenhamos eventos disjuntos($p(A∪B) = ∅$), podemos concluir que, a probabilidade da união pode se dar pela soma dos dois eventos, $p(A)+p(B)$;\n",
        "\n",
        "\n",
        "\n",
        "\n"
      ],
      "metadata": {
        "id": "1WWZqRNDy6TY"
      }
    },
    {
      "cell_type": "markdown",
      "source": [
        "##Evendo Complementar\n",
        "\n",
        "$A^C$\n",
        "\n",
        "$P(A^C)=1-P(A)$\n",
        "\n",
        "Ou seja, um menos probabilidade do evento."
      ],
      "metadata": {
        "id": "Zj4pQOZNvwed"
      }
    },
    {
      "cell_type": "markdown",
      "source": [
        "\n",
        "\n",
        "*   Complemento do espaço amostral, tudo que não foi usado, ou seja, $n(C)+n(C^C)=n(U)$, numero do conjunto mais número do complemento é o conjunto universo;\n",
        "*   Mutualmente excludende em relação ao conjunto, por exemplo, caso eu jogue uma moeda, irá cair cara ou coroa, nunca os dois juntos;\n",
        "\n"
      ],
      "metadata": {
        "id": "88GN9cgYwHkV"
      }
    },
    {
      "cell_type": "markdown",
      "source": [
        "- Uma urna tem 10 bolas vermelhas, 3 azuis, e 2 petas. Qual a probabilidade de cair uma bola que não seja da cor vermelha?"
      ],
      "metadata": {
        "id": "SBFY29FJwr9E"
      }
    },
    {
      "cell_type": "code",
      "source": [
        "U = [10, 3, 2]\n",
        "V = U[0]\n",
        "A = U[1]\n",
        "P = U[2]\n",
        "\n",
        "resultado = 1 - (V/15)\n",
        "resultado*100"
      ],
      "metadata": {
        "colab": {
          "base_uri": "https://localhost:8080/"
        },
        "id": "dku5JTW1v_EE",
        "outputId": "22b3e4f6-a6e2-4888-8db5-006346828a81"
      },
      "execution_count": null,
      "outputs": [
        {
          "output_type": "execute_result",
          "data": {
            "text/plain": [
              "33.333333333333336"
            ]
          },
          "metadata": {},
          "execution_count": 15
        }
      ]
    },
    {
      "cell_type": "markdown",
      "source": [
        "#2- Probabilidade Condicional\n",
        "\n",
        "Se trata da probabilidade de um evento ocorrer, dado um segundo evento já ocorrido. Pode-se entender como uma restrição de uma determinada parte do conjunto universo.\n",
        "\n",
        ">$p(A|B)=p(A∩B)/p(B)$"
      ],
      "metadata": {
        "id": "gvQimbxk3ED7"
      }
    },
    {
      "cell_type": "markdown",
      "source": [
        "- Calcular a probabilidade de uma pessoa escolhida aleatoriamente ser enfermeiro, sendo que essa pessoa deve ser homem.\n",
        "![image.png](data:image/png;base64,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)"
      ],
      "metadata": {
        "id": "kHnQDomA4nGx"
      }
    },
    {
      "cell_type": "code",
      "source": [
        "A = 40\n",
        "B = 120\n",
        "resultado = A/B\n",
        "resultado"
      ],
      "metadata": {
        "colab": {
          "base_uri": "https://localhost:8080/"
        },
        "id": "OYW_Y-Aa4mqC",
        "outputId": "0f88990f-7806-4984-c3c2-090eb0ec086b"
      },
      "execution_count": null,
      "outputs": [
        {
          "output_type": "execute_result",
          "data": {
            "text/plain": [
              "0.3333333333333333"
            ]
          },
          "metadata": {},
          "execution_count": 24
        }
      ]
    },
    {
      "cell_type": "markdown",
      "source": [
        "- Uma moeda é jogada duas vezes. Supondo que todos os quatro pontos no espaço amostral $U$= {(A,A),(A,B),(B,B),(B,A)}, qual a probabilidade condicional de que dê cara em ambas as jogadas, dado que:\n",
        "\n",
        "  *   Dê cara na primeira jogada;\n",
        "  *   Dê cara em pelo menos uma das jogadas;\n",
        "\n"
      ],
      "metadata": {
        "id": "TsHM4Ilm7EaH"
      }
    },
    {
      "cell_type": "code",
      "source": [
        "moeda = [(i, j) for i in ('cara', 'coroa') for j in ('cara', 'coroa') ]\n",
        "a = [(i,j) for i, j in moeda if i == 'cara' and j == 'cara']\n",
        "A = len(a)/len(moeda)\n",
        "\n",
        "b1 = [(i,j) for i, j in moeda if i == 'cara' and j == 'cara' or i == 'cara' and j == 'coroa']\n",
        "B1 = len(b1)/len(moeda)\n",
        "\n",
        "resultado1 = A/B1\n",
        "print(resultado1*100)\n",
        "\n",
        "b2 = [(i,j) for i, j in moeda if i == 'cara' and j == 'cara' or i == 'cara' and\n",
        "      j == 'coroa' or i == 'coroa' and j == 'cara']\n",
        "B2 = len(b2)/len(moeda)\n",
        "\n",
        "resultado2 = A/B2\n",
        "print(resultado2*100)"
      ],
      "metadata": {
        "colab": {
          "base_uri": "https://localhost:8080/"
        },
        "id": "bNPfgCrQ79AO",
        "outputId": "ee576ac6-c86f-4983-babb-e93818aa4c6c"
      },
      "execution_count": null,
      "outputs": [
        {
          "output_type": "stream",
          "name": "stdout",
          "text": [
            "50.0\n",
            "33.33333333333333\n"
          ]
        }
      ]
    },
    {
      "cell_type": "markdown",
      "source": [
        "- ![image.png](data:image/png;base64,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)"
      ],
      "metadata": {
        "id": "MAW9eRsoA1HO"
      }
    },
    {
      "cell_type": "code",
      "source": [
        "A = 80\n",
        "B = 180\n",
        "resultado = A/B\n",
        "resultado*100"
      ],
      "metadata": {
        "colab": {
          "base_uri": "https://localhost:8080/"
        },
        "id": "-6xo09HG_H6r",
        "outputId": "1c30c338-1c6b-42bc-ae5c-67b243b60138"
      },
      "execution_count": null,
      "outputs": [
        {
          "output_type": "execute_result",
          "data": {
            "text/plain": [
              "44.44444444444444"
            ]
          },
          "metadata": {},
          "execution_count": 30
        }
      ]
    },
    {
      "cell_type": "markdown",
      "source": [
        "## Teorema da Multiplicação"
      ],
      "metadata": {
        "id": "vMbnuXPMBaT8"
      }
    },
    {
      "cell_type": "markdown",
      "source": [
        "Fornece a probabilidade da interseção, a partir da probabilidade condicional:\n",
        "\n",
        ">$p(A∩B)=p(B|A)*p(A)$"
      ],
      "metadata": {
        "id": "PybFiSqfKagY"
      }
    },
    {
      "cell_type": "markdown",
      "source": [
        "- Celina está indecisa quanto a fazer uma disciplina de francês ou\n",
        "de química. Ela estima que sua probabilidade de conseguir um conceito $A$\n",
        "seria de 1/2 em uma disciplina de francês e de 2/3 em uma disciplina de\n",
        "química. Se Celina decide basear a sua escolha no lançamento de uma\n",
        "moeda honesta, qual é a probabilidade de que ela obtenha um A em\n",
        "química?"
      ],
      "metadata": {
        "id": "YJGdZHiWslqH"
      }
    },
    {
      "cell_type": "code",
      "source": [
        "A = 1/2 #prob moeda\n",
        "B = 3/2 #prob quimica\n",
        "print((A*B)*100)"
      ],
      "metadata": {
        "id": "TG7MsK6eJ_pm",
        "colab": {
          "base_uri": "https://localhost:8080/"
        },
        "outputId": "e1f7ed5d-5e4e-41a7-fd0e-2c769d04177c"
      },
      "execution_count": null,
      "outputs": [
        {
          "output_type": "stream",
          "name": "stdout",
          "text": [
            "75.0\n"
          ]
        }
      ]
    },
    {
      "cell_type": "markdown",
      "source": [
        "##Independência de Eventos"
      ],
      "metadata": {
        "id": "MNtYWM96Ls8N"
      }
    },
    {
      "cell_type": "markdown",
      "source": [
        "Um evento não afeta no resultado de outro. Pode ser provado por:\n",
        "\n",
        ">$p(B|A) = p(B)$ ou $p(A|B) = p(A)$"
      ],
      "metadata": {
        "id": "PO8Uhc6TNvFE"
      }
    },
    {
      "cell_type": "markdown",
      "source": [
        "#3- Teorema da probabilidade total"
      ],
      "metadata": {
        "id": "-zEiOQ0DN0qr"
      }
    },
    {
      "cell_type": "markdown",
      "source": [
        "Imagine que você deseja medir a probabilidade de um evento, onde o mesmo pode ocorrer de várias maneiras diferentes, dentro desta restrição, pode-se calcular este evento atravéz de suas probabilidades condicionais.\n",
        "\n",
        ">$P(A)=∑\n",
        "i=1\n",
        "n\n",
        "​\n",
        " P(A∣B\n",
        "i\n",
        "​\n",
        " )⋅P(B\n",
        "i\n",
        "​\n",
        " )$"
      ],
      "metadata": {
        "id": "cOf0xYnjN7Xz"
      }
    },
    {
      "cell_type": "markdown",
      "source": [
        "**Exemplo:** Suponha que temos três urnas, cada uma com bolas de diferentes cores, e queremos calcular a probabilidade de pegar uma bola azul. As urnas são selecionadas aleatoriamente com probabilidades conhecidas. Digamos que $B_1, B_2 e B_3$ representam as urnas 1, 2 e 3, respectivamente.\n",
        "$$$$\n",
        "\n",
        "Seja $A$ o evento de pegar uma bola azul. Podemos aplicar o teorema da probabilidade total da seguinte forma:\n",
        "$P(A) = p(A|B_1)*p(B_1) + p(A|B_2)*p(B_2) + p(A|B_3)*p(B_3)$\n",
        "$$$$\n",
        "\n",
        "\n",
        "\n",
        "* $p(A|B_1)$  é a probabilidade de pegar uma bola azul na urna 1;\n",
        "* $p(A|B_2)$ é a probabilidade de pegar uma bola azul na urna 2;\n",
        "* $p(A|B_3)$ é a probabilidade de pegar uma bola azul na urna 3;\n",
        "* $p(B_1), p(B_2) e p(B_3)$  é a ptobabilidade de ser umas das 3 urnas;\n",
        "\n"
      ],
      "metadata": {
        "id": "EyPDnw4uK8tA"
      }
    },
    {
      "cell_type": "markdown",
      "source": [
        "-------------------------------------------------------------\n"
      ],
      "metadata": {
        "id": "IqdJcaqUPYIk"
      }
    },
    {
      "cell_type": "markdown",
      "source": [
        "- Auponha que, em um banco, o nível de inadimplência dos pagadores\n",
        "do grupo A (melhores pagadores) seja 1%; o nível de inadimplência dos pagadores do grupo B seja 5%; e o nível de inadimplência dos pagadores do grupo C seja de\n",
        "10%.\n",
        "$$$$\n",
        "Além disso, suponha que o grupo A represente 50% dos pagadores; o\n",
        "grupo B represente 30%; e o grupo C represente 20%. Com base nesses\n",
        "valores, podemos calcular a probabilidade total de inadimplência, ou seja,\n",
        "a probabilidade de inadimplência de um cliente qualquer, sem saber a que\n",
        "grupo ele pertence."
      ],
      "metadata": {
        "id": "bWcfZXK-MoHJ"
      }
    },
    {
      "cell_type": "code",
      "source": [
        "# Evento principal se trata de medir a impedancia total\n",
        "\n",
        "# Probabilidade de ser um dos 3 grupos\n",
        "grupo_a = 0.5\n",
        "grupo_b = 0.3\n",
        "grupo_c = 0.2\n",
        "\n",
        "# Probabilidade de impedancia dado a probabilidade de um grupo\n",
        "Ia = 0.01\n",
        "Ib = 0.05\n",
        "Ic = 0.1\n",
        "\n",
        "i = Ia*grupo_a + Ib*grupo_b + Ic*grupo_c\n",
        "print(i*100)"
      ],
      "metadata": {
        "colab": {
          "base_uri": "https://localhost:8080/"
        },
        "id": "mYrHMew2PDyb",
        "outputId": "c391c3c9-8da1-4368-f3c5-bf6a1a6b9fa4"
      },
      "execution_count": null,
      "outputs": [
        {
          "output_type": "stream",
          "name": "stdout",
          "text": [
            "4.000000000000001\n"
          ]
        }
      ]
    },
    {
      "cell_type": "markdown",
      "source": [
        "##Teorema de Bayes\n",
        "\n",
        "Usado para determinar a probabilidade de um grupo dentro da probabilidade total.\n",
        "\n",
        "$\\frac{P(B|A)*P(A)}{P(Total)}$"
      ],
      "metadata": {
        "id": "iKtCYFNRY1q7"
      }
    },
    {
      "cell_type": "markdown",
      "source": [
        "- Na prova de língua estrangeira de um concurso, 60% dos candidatos optaram por Inglês e os demais,\n",
        "por Espanhol. Destes, 5% foram classificados e daqueles, 10% foram classificados.\n",
        "\n",
        "A) Escolhendo-se uma pessoa ao acaso, a probabilidade dessa pessoa ter sido classificada é superior\n",
        "a 10%\n",
        "\n",
        "B) Escolhendo-se ao acaso um candidato classificado, a probabilidade de ele haver optado por Inglês é\n",
        "superior a 70%"
      ],
      "metadata": {
        "id": "bwRb7bysZZLD"
      }
    },
    {
      "cell_type": "code",
      "source": [
        "i = 0.6\n",
        "e = 0.4\n",
        "\n",
        "ae = 0.05\n",
        "ai = 0.1\n",
        "\n",
        "prob_total = i*ai + e*ae\n",
        "t_bayes = ai*i/prob_total\n",
        "\n",
        "print(f\"Probabilidade total: {prob_total*100} %\")\n",
        "print(f\"Probabilidade de ser aprovado fazendo ingles: {t_bayes*100} %\")"
      ],
      "metadata": {
        "colab": {
          "base_uri": "https://localhost:8080/"
        },
        "id": "vxCX4ATbZzL6",
        "outputId": "a513da75-e9f1-4514-c646-e64566b1a98d"
      },
      "execution_count": null,
      "outputs": [
        {
          "output_type": "stream",
          "name": "stdout",
          "text": [
            "Probabilidade total: 8.0 %\n",
            "Probabilidade de ser aprovado fazendo ingles: 75.0 %\n"
          ]
        }
      ]
    },
    {
      "cell_type": "markdown",
      "source": [
        "#4- Distribuição"
      ],
      "metadata": {
        "id": "O2sTbh3tcLYU"
      }
    },
    {
      "cell_type": "markdown",
      "source": [
        "##Distribuição de Bernoulli"
      ],
      "metadata": {
        "id": "g8toIt-tPAmS"
      }
    },
    {
      "cell_type": "markdown",
      "source": [
        "###Esperança\n",
        "\n",
        "$E(x)=0*q+1*p$\n",
        "$$$$\n",
        "E(x)=p"
      ],
      "metadata": {
        "id": "Js4cj3UtPkrp"
      }
    },
    {
      "cell_type": "markdown",
      "source": [
        "###Variância\n",
        "\n",
        "$E(x^2)=0^2*q+1^2*p$\n",
        "\n",
        "$V(x)=E(x^2)-[E(x)]^2$\n",
        "$$$$\n",
        "$V(x)=p*q$"
      ],
      "metadata": {
        "id": "c8Rx25lGP1yx"
      }
    },
    {
      "cell_type": "markdown",
      "source": [
        "##Distribuição Binomial\n",
        "\n",
        "$p(X = k)=C(n,k)*(p^k)*((1-p)^k-^n)$"
      ],
      "metadata": {
        "id": "6sf3wGfUPKBy"
      }
    },
    {
      "cell_type": "markdown",
      "source": [
        "- Em um determinado estado 70% da população é favoravel a um projeto. Dentre 5 pessoas, qual a probabilidade de 3 serem favoraveis ao projeto?"
      ],
      "metadata": {
        "id": "qkVzrVSHTCaH"
      }
    },
    {
      "cell_type": "code",
      "source": [
        "p = 0.7\n",
        "k = 3\n",
        "n = 5\n",
        "\n",
        "prob = comb(n, k) * (p**k) * ((1-p)**(n-k))\n",
        "\n",
        "print(f\"A probabilidade de serem vaforaveis é de {prob*100} %\")"
      ],
      "metadata": {
        "colab": {
          "base_uri": "https://localhost:8080/"
        },
        "id": "XLtaNoHITNIW",
        "outputId": "c8e33d73-3427-41cb-e767-60e7abdd1e21"
      },
      "execution_count": null,
      "outputs": [
        {
          "output_type": "stream",
          "name": "stdout",
          "text": [
            "A probabilidade de serem vaforaveis é de 30.870000000000005 %\n"
          ]
        }
      ]
    },
    {
      "cell_type": "markdown",
      "source": [
        "###Esperança\n",
        "\n",
        "$E(x)=n*p$"
      ],
      "metadata": {
        "id": "4bgoGgCsW8EB"
      }
    },
    {
      "cell_type": "markdown",
      "source": [
        "##Distribuição de Poisson\n",
        "\n",
        "Sempre que o tamanho da amostra tende ao infinito, normalmente tem a probabilidade dada por um intervalo.\n",
        "\n",
        "\n",
        "$λ=n*p$\n",
        "$$$$\n",
        "$p(X=k)=\\frac{e^{-\\lambda}\\lambda^k}{k!}$\n"
      ],
      "metadata": {
        "id": "MaIbkMFPXD6h"
      }
    },
    {
      "cell_type": "markdown",
      "source": [
        "- Determinada central telefonica recebe em média 6 ligações por minuto. Qual a probabilidade de certo minuto ela receber 2 ligações.\n",
        "\n",
        "OBS: tempo = variância = $\\lambda$"
      ],
      "metadata": {
        "id": "fgGJdpcHY7Xa"
      }
    },
    {
      "cell_type": "code",
      "source": [
        "lamb = 6\n",
        "k = 2\n",
        "\n",
        "prob = (e**(-lamb)) * (lamb**k) / factorial(k)\n",
        "print(f\"A probabilidade é de {prob*100} %\")"
      ],
      "metadata": {
        "colab": {
          "base_uri": "https://localhost:8080/"
        },
        "id": "FTtYf3zDW9SB",
        "outputId": "5d1d344f-ec64-45de-f5d2-4d9e983fabb8"
      },
      "execution_count": null,
      "outputs": [
        {
          "output_type": "stream",
          "name": "stdout",
          "text": [
            "A probabilidade é de 4.461753917999447 %\n"
          ]
        }
      ]
    }
  ]
}